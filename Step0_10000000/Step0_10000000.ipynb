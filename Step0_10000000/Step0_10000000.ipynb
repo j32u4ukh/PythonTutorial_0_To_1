{
 "cells": [
  {
   "cell_type": "markdown",
   "metadata": {},
   "source": [
    "教學大綱；シラバス；syllabus：\n",
    "1. int\n",
    "2. float\n",
    "3. str\n",
    "4. variable\n",
    "5. type()\n",
    "\n",
    "---\n",
    "變數還有其他類型，但現在先教各位會需要使用的就可以了。\n",
    "\n",
    "変数は他のタイプもありますが、これから使られる変数を勉強が十分だ。\n",
    "\n",
    "---\n",
    "首先是整數 int，如：1, 2, 3, 9527, ....。\n",
    "\n",
    "先ずは<ruby>整数<rt>せいすう</rt></ruby> int、例えば：1, 2, 3, 9527, ....。"
   ]
  },
  {
   "cell_type": "code",
   "execution_count": 1,
   "metadata": {},
   "outputs": [
    {
     "name": "stdout",
     "output_type": "stream",
     "text": [
      "1\n",
      "2\n",
      "3\n",
      "9527\n"
     ]
    }
   ],
   "source": [
    "print(1)\n",
    "print(2)\n",
    "print(3)\n",
    "print(9527)"
   ]
  },
  {
   "cell_type": "markdown",
   "metadata": {},
   "source": [
    "字串 str，之前的教學也提過，這裡就快速帶過。\n",
    "\n",
    "紐 str，前のコースも教えましたから、説明はない。\n",
    "\n",
    "---\n",
    "浮點數 float，也就是帶有小數點的數字。\n",
    "\n",
    "<ruby>浮動<rt>ふどう</rt>小数<rt>しょうすう</rt>点数<rt>てんすう</rt></ruby> float、つまり、小数点を付けているの数字だ。"
   ]
  },
  {
   "cell_type": "code",
   "execution_count": 2,
   "metadata": {},
   "outputs": [
    {
     "name": "stdout",
     "output_type": "stream",
     "text": [
      "2.71828\n",
      "3.14159\n",
      "9.0\n"
     ]
    }
   ],
   "source": [
    "print(2.71828)\n",
    "print(3.14159)\n",
    "print(9.0)"
   ]
  },
  {
   "cell_type": "markdown",
   "metadata": {},
   "source": [
    "前面提的整數或字串，可以利用\"變數\"代替，方便我們重複使用。\n",
    "\n",
    "この前、言った整数と紐などは変数に交換できます。再利用に便利。\n",
    "\n",
    "---\n",
    "這個過程叫做\"賦值\"，將\"右邊\"的值給予\"左邊\"的變數，之後還會提到，請記得\"賦值\"的意思。\n",
    "\n",
    "このプロセスは代入と申します、左側の変数に右側の<ruby>数値<rt>すうち</rt></ruby>を代入する。これからも何回目に<ruby>言及<rt>げんきゅう</rt></ruby>されだから、代入の意味を覚えてください。"
   ]
  },
  {
   "cell_type": "code",
   "execution_count": 3,
   "metadata": {},
   "outputs": [
    {
     "name": "stdout",
     "output_type": "stream",
     "text": [
      "1\n",
      "字串\n",
      "2.71828\n",
      "2\n",
      "さしすせそ\n",
      "3.14159\n"
     ]
    }
   ],
   "source": [
    "t0 = 1\n",
    "t1 = \"字串\"\n",
    "t2 = 2.71828\n",
    "j0 = 2\n",
    "j1 = \"さしすせそ\"\n",
    "j2 = 3.14159\n",
    "\n",
    "print(t0)  # 1\n",
    "print(t1)  # 字串\n",
    "print(t2)  # 2.71828\n",
    "print(j0)  # 2\n",
    "print(j1)  # さしすせそ\n",
    "print(j2)  # 3.14159"
   ]
  },
  {
   "cell_type": "markdown",
   "metadata": {},
   "source": [
    "當我們將整數、浮點數或字串存到變數裡面之後，我怎麼知道它是整數、浮點數還是字串呢？\n",
    "\n",
    "整数とか浮動小数点数とか紐を変数に代入した後、どうやってそれのタイプを知りますか？\n",
    "\n",
    "---\n",
    "可利用 type()，查看變數是屬於哪種類型喔。\n",
    "\n",
    "type() でこの変数のタイプをチェックはできます。\n",
    "\n",
    "---\n",
    "<class 'int'> 表示它屬於整數；<class 'str'> 表示它屬於字串；<class 'float'> 表示它屬於浮點數。\n",
    "\n",
    "<class 'int'> の意味はこれは整数に<ruby>属<rt>ぞく</rt></ruby>する；<class 'str'> は紐に属する；<class 'float'> は浮動小数点数に属する。"
   ]
  },
  {
   "cell_type": "code",
   "execution_count": 4,
   "metadata": {},
   "outputs": [
    {
     "name": "stdout",
     "output_type": "stream",
     "text": [
      "<class 'int'>\n",
      "<class 'int'>\n",
      "<class 'str'>\n",
      "<class 'str'>\n",
      "<class 'float'>\n",
      "<class 'float'>\n"
     ]
    }
   ],
   "source": [
    "print(type(1))      # <class 'int'>\n",
    "print(type(j0))     # <class 'int'>\n",
    "\n",
    "print(type(\"字串\")) # <class 'str'>\n",
    "print(type(j1))     # <class 'str'>\n",
    "\n",
    "print(type(2.7182)) # <class 'float'>\n",
    "print(type(j2))     # <class 'float'>"
   ]
  },
  {
   "cell_type": "code",
   "execution_count": null,
   "metadata": {},
   "outputs": [],
   "source": []
  }
 ],
 "metadata": {
  "kernelspec": {
   "display_name": "Python 3",
   "language": "python",
   "name": "python3"
  },
  "language_info": {
   "codemirror_mode": {
    "name": "ipython",
    "version": 3
   },
   "file_extension": ".py",
   "mimetype": "text/x-python",
   "name": "python",
   "nbconvert_exporter": "python",
   "pygments_lexer": "ipython3",
   "version": "3.7.4"
  }
 },
 "nbformat": 4,
 "nbformat_minor": 4
}
