{
 "cells": [
  {
   "cell_type": "markdown",
   "metadata": {},
   "source": [
    "# 教學大綱；シラバス；syllabus：\n",
    "1. +, -, *, /, %\n",
    "2. +=, -=, *=, /=, %=\n",
    "3. ==\n",
    "4. variable_name\n",
    "\n",
    "\n",
    "這個部分要介紹數學運算所使用的符號。\n",
    "\n",
    "この部分は<ruby>計算<rt>けいさん</rt></ruby>して使う<ruby>記号<rt>きごう</rt></ruby>。\n",
    "\n",
    "---\n",
    "首先，利用前面教過的變數，將一些數字\"賦值\"給左邊的變數。\n",
    "\n",
    "先ず、教えた変数を使って、変数を数字に代入する。"
   ]
  },
  {
   "cell_type": "code",
   "execution_count": null,
   "metadata": {},
   "outputs": [],
   "source": [
    "a = 2\n",
    "b = 3\n",
    "c = 5\n",
    "d = 8\n",
    "e = 13\n",
    "\n",
    "print(a + b)  # 5   足（た）す     足（た）し算（ざん）\n",
    "print(d - c)  # 3   引（ひ）く     引（ひ）き算\n",
    "print(a * e)  # 26  掛（か）ける   掛（か）け算   \n",
    "print(c / a)  # 2.5 割（わ）る     割（わ）り算\n",
    "print(d / a)  # 4.0 "
   ]
  },
  {
   "cell_type": "markdown",
   "metadata": {},
   "source": [
    "c / a = 2.5 表示 c 無法被 a 整除，若想知道餘數為何，便可利用\"%\"。\n",
    "\n",
    "c / a = 2.5 の意味は” c が a に<ruby>割<rt>わ</rt></ruby>り<ruby>切<rt>き</rt></ruby>れない”。<ruby>残<rt>のこ</rt></ruby>り数字を知りたいなら、\"%\"で使って分かる。\n",
    "\n",
    "---\n",
    "求餘數可以用在判斷是否整除(是否為某數的倍數)等，是很常使用的符號喔。\n",
    "\n",
    "残り数字を計算することは割り切れるかどうか（ある数字の何倍）を判断ができる。よく使う記号だよ。"
   ]
  },
  {
   "cell_type": "code",
   "execution_count": null,
   "metadata": {},
   "outputs": [],
   "source": [
    "print(c % a)  # 1\n",
    "print(d % a)  # 0\n",
    "print(e % c)  # 3"
   ]
  },
  {
   "cell_type": "markdown",
   "metadata": {},
   "source": [
    "印出 a + b = 5 之後再印一次 a 會發現它還是 2，若想改變 a 的值，就需要再賦值一次。\n",
    "\n",
    "a + b = 5 をプリントアウトして、もう一度 a をプリントアウトした場合、a がまだ 2 です。a の数字を変えたいなら、もう一度代入することが必要だ。"
   ]
  },
  {
   "cell_type": "code",
   "execution_count": null,
   "metadata": {},
   "outputs": [],
   "source": [
    "print(a)  # 2\n",
    "print(b)  # 3"
   ]
  },
  {
   "cell_type": "markdown",
   "metadata": {},
   "source": [
    "右邊的 a + b 等於 5 ，將這個值\"賦值\"給左邊的 a ，因此現在的 a 等於 5 ，右邊是\"賦值\"之前的 a ，所以數值是 2。\n",
    "\n",
    "右の a + b は 5 に<ruby>等<rt>ひと</rt></ruby>しい、この<ruby>数値<rt>すうち</rt></ruby>を左の a に代入して、今の a が 5 になります。右の a は代入された前の数値だから、数値が 2 です。"
   ]
  },
  {
   "cell_type": "code",
   "execution_count": null,
   "metadata": {},
   "outputs": [],
   "source": [
    "a = a + b\n",
    "print(a)  # 5\n",
    "print(b)  # 3"
   ]
  },
  {
   "cell_type": "markdown",
   "metadata": {},
   "source": [
    "+= 這個符號，效果上面的一樣，但它在進行加法的同時便進行\"賦值\"，因此這種寫法看起來更為簡潔。\n",
    "\n",
    "記号 += の効果は上と同じ、でもこれは足し算と代入すること同時に実行する。これはもっと<ruby>簡潔<rt>かんけつ</rt></ruby>なやり方です。"
   ]
  },
  {
   "cell_type": "code",
   "execution_count": null,
   "metadata": {},
   "outputs": [],
   "source": [
    "a = 2\n",
    "b = 3\n",
    "a += b\n",
    "print(a)  # 5\n",
    "print(b)  # 3"
   ]
  },
  {
   "cell_type": "markdown",
   "metadata": {},
   "source": [
    "-=, *=, /=, %= 的效果也在此示範，都是先做左邊符號的動作，然後再\"賦值\"給左邊的變數。\n",
    "\n",
    "-=, *=, /=, %=　の効果はここで<ruby>実証<rt>じっしょう</rt></ruby>する。左側記号の計算を始めて、そして左の変数を計算の結果に代入する。"
   ]
  },
  {
   "cell_type": "code",
   "execution_count": null,
   "metadata": {},
   "outputs": [],
   "source": [
    "a -= b\n",
    "print(a)  # 5\n",
    "\n",
    "a *= b\n",
    "print(a)  # 15\n",
    "\n",
    "a /= b\n",
    "print(a)  # 5\n",
    "\n",
    "a %= b\n",
    "print(a)  # 2.0"
   ]
  },
  {
   "cell_type": "markdown",
   "metadata": {},
   "source": [
    "那如果是 == 又是什麼意思呢？這用在判斷左右兩邊的數值是否相等。\n",
    "\n",
    "じゃ、== の意味は何でしょうか？これは左と右の数値が同じかどうかを判断する。"
   ]
  },
  {
   "cell_type": "code",
   "execution_count": null,
   "metadata": {},
   "outputs": [],
   "source": [
    "print(2 + 1 == 3)  # True\n",
    "print(2 + 5 == 3)  # False"
   ]
  },
  {
   "cell_type": "markdown",
   "metadata": {},
   "source": [
    "若要判斷左右兩邊的數值是否'不相等'，則要使用 !=。\n",
    "\n",
    "左と右の数値が同じくないかどうかを判断しなら、!= を使ってください。"
   ]
  },
  {
   "cell_type": "code",
   "execution_count": null,
   "metadata": {},
   "outputs": [],
   "source": [
    "print(2 + 1 != 3)  # False\n",
    "print(2 + 5 != 3)  # True"
   ]
  },
  {
   "cell_type": "markdown",
   "metadata": {},
   "source": [
    "最後要提一下，變數命名規則，不同的語言可能會有不同的地方，以下介紹我的命名習慣，感興趣的可以上網找找各種語言的命名規則。\n",
    "\n",
    "最後、変数を命名のルールは異なるプログラムには異なるルールがあります。これから、自分のルールを紹介する。興味あるなら、ネットで探しましょう。\n",
    "\n",
    "---\n",
    "變數基本上都會使用小寫英文字、數字以及部分特殊符號組成，且是有意義的單字，例: _number1。\n",
    "\n",
    "変数は基本的に<ruby>小文字<rt>こもじ</rt></ruby>の英単語、数字と一部分特別な記号を使用します。ほぼ意味がある単語です、例えば：_number1。\n",
    "\n",
    "---\n",
    "如果是多個單字組成，會利用\"_\"連接單字，例: breathe_of_water。\n",
    "\n",
    "複数な単語なら、\"_\"で<ruby>接続<rt>せつぞく</rt></ruby>する、例えば： breathe_of_water。\n",
    "\n",
    "---\n",
    "若全為大寫的變數，通常是常數，即不會改變數值的數，例: 圓周率 PI = 3.14159....。\n",
    "\n",
    "英単語は全て<ruby>大文字<rt>おおもじ</rt></ruby>で表示しなら、ほぼは定数、数値が変えられないの数字です。例えば： PI = 3.14159....。\n",
    "\n",
    "---\n",
    "其他情況的命名規則，就等遇到了再做說明吧。\n",
    "\n",
    "他のルール、必要な時説明する。"
   ]
  }
 ],
 "metadata": {
  "kernelspec": {
   "display_name": "Python 3",
   "language": "python",
   "name": "python3"
  },
  "language_info": {
   "codemirror_mode": {
    "name": "ipython",
    "version": 3
   },
   "file_extension": ".py",
   "mimetype": "text/x-python",
   "name": "python",
   "nbconvert_exporter": "python",
   "pygments_lexer": "ipython3",
   "version": "3.7.4"
  }
 },
 "nbformat": 4,
 "nbformat_minor": 4
}
