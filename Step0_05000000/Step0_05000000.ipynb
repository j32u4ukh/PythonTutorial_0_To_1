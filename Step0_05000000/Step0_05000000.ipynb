{
 "cells": [
  {
   "cell_type": "markdown",
   "metadata": {},
   "source": [
    "# 教學大綱；シラバス；syllabus：\n",
    "1. print\n",
    "2. 註解；<ruby>注釈<rt>ちゅうしゃく</rt></ruby>\n",
    "3. len\n",
    "\n",
    "---\n",
    "印出 \"Hello World\" 應該是所有程式初學者共同的經歷了吧。\n",
    "\n",
    "\"Hello World\"をプリントアウトすることは全てプログラムが勉強する人共通の経験だそ。"
   ]
  },
  {
   "cell_type": "code",
   "execution_count": 1,
   "metadata": {},
   "outputs": [
    {
     "name": "stdout",
     "output_type": "stream",
     "text": [
      "Hello World\n",
      "炎\n",
      "あ\n"
     ]
    }
   ],
   "source": [
    "print(\"Hello World\")\n",
    "print(\"炎\")\n",
    "print(\"あ\")"
   ]
  },
  {
   "cell_type": "markdown",
   "metadata": {},
   "source": [
    "用 2 個單引號或雙引號包住的一串文字，我們稱為字串，可利用 print 呈現出來。\n",
    "\n",
    "二つの<ruby>一重<rt>ひとえ</rt>引用符<rt>いんようふ</rt></ruby>または<ruby>二重<rt>ふたえ</rt></ruby>引用符で文字を<ruby>取<rt>と</rt></ruby>り<ruby>囲<rt>かこ</rt></ruby>むのことは<ruby>紐<rt>ひも</rt></ruby>と呼ばれる。print　でプリントアウトはできる。"
   ]
  },
  {
   "cell_type": "code",
   "execution_count": 2,
   "metadata": {},
   "outputs": [
    {
     "data": {
      "text/plain": [
       "'\\n單引號的效果等同雙引號。\\n一重引用符と二重引用符の効果(こうか)は同じだ。\\n'"
      ]
     },
     "execution_count": 2,
     "metadata": {},
     "output_type": "execute_result"
    }
   ],
   "source": [
    "\"\"\"\n",
    "而這段文字目前在的部分稱為多行註解，透過前後各 3 個單引號或雙引號包住，用來對程式碼做補充說明，不會對程式碼本身產生影響。\n",
    "\n",
    "この部分の文字は複数行(ふくすうぎょう)注釈と呼ばれる。前と後ろ三つの一重引用符または二重引用符で内容を取り囲む(とりかこむ)。\n",
    "注釈はコードに説明している、コードが影響されない。\n",
    "\"\"\"\n",
    "\n",
    "'''\n",
    "單引號的效果等同雙引號。\n",
    "\n",
    "一重引用符と二重引用符の効果(こうか)は同じだ。\n",
    "'''\n",
    "\n",
    "# 而這是單行註解的方式，在每行前面加井字號。\n",
    "\n",
    "# これは単行(たんこう)注釈のやり方、各行(かくこう)の前にシャープをかける。"
   ]
  },
  {
   "cell_type": "markdown",
   "metadata": {},
   "source": [
    "print 除了可以印出字串之外，也可以印出數字。\n",
    "\n",
    "print は紐をプリントアウトができる、数字もできる。"
   ]
  },
  {
   "cell_type": "code",
   "execution_count": 3,
   "metadata": {},
   "outputs": [
    {
     "name": "stdout",
     "output_type": "stream",
     "text": [
      "3\n",
      "3.141592653589\n"
     ]
    }
   ],
   "source": [
    "print(3)\n",
    "print(3.141592653589)"
   ]
  },
  {
   "cell_type": "markdown",
   "metadata": {},
   "source": [
    "最後要介紹的是 len()，可以回傳字串或其他變數的長度，其他變數會在後面依序介紹。\n",
    "\n",
    "最後は len() に紹介する。これで紐の長さとか<ruby>他<rt>ほか</rt></ruby>の<ruby>変数<rt>へんすう</rt></ruby>の長さとかを返事ができる。他の変数は後で紹介する。\n",
    "\n",
    "---\n",
    "大家可以嘗試換掉雙引號當中的內容，可以更加瞭解 len() 的作用喔。\n",
    "\n",
    "皆は二重引用符中の内容を変えてやってみる、それてもっと len() の効果を分かる。\n",
    "\n",
    "---\n",
    "\"Hello World\"的長度是 11，因為\"空格\"也被算進去了。\n",
    "\n",
    "\"Hello World\"の長さは　11、なぜなら、スペースも数えられるだ。"
   ]
  },
  {
   "cell_type": "code",
   "execution_count": 4,
   "metadata": {},
   "outputs": [
    {
     "name": "stdout",
     "output_type": "stream",
     "text": [
      "5\n",
      "5\n",
      "11\n",
      "1\n",
      "1\n"
     ]
    }
   ],
   "source": [
    "print(len(\"Hello\"))        # 5\n",
    "print(len(\"World\"))        # 5\n",
    "print(len(\"Hello World\"))  # 11\n",
    "print(len(\"炎\"))           # 1\n",
    "print(len(\"あ\"))           # 1"
   ]
  },
  {
   "cell_type": "markdown",
   "metadata": {},
   "source": [
    "而寫著這些程式的檔案(Step0_05000000.py)通常稱之為腳本，使用 Jupyter Notebook 的話，檔案名稱會是 Step0_05000000.ipynb。\n",
    "\n",
    "このファイル(Step0_05000000.py)はスクリプトと呼ばれる、Jupyter Notebook を使えば、ファイルが Step0_05000000.ipynb と呼ばれる。"
   ]
  }
 ],
 "metadata": {
  "kernelspec": {
   "display_name": "Python 3",
   "language": "python",
   "name": "python3"
  },
  "language_info": {
   "codemirror_mode": {
    "name": "ipython",
    "version": 3
   },
   "file_extension": ".py",
   "mimetype": "text/x-python",
   "name": "python",
   "nbconvert_exporter": "python",
   "pygments_lexer": "ipython3",
   "version": "3.7.4"
  }
 },
 "nbformat": 4,
 "nbformat_minor": 4
}
