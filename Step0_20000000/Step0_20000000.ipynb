{
 "cells": [
  {
   "cell_type": "markdown",
   "metadata": {},
   "source": [
    "# 教學大綱；シラバス；syllabus：\n",
    "1. True, False\n",
    "2. and, or, not\n",
    "\n",
    "---\n",
    "True 和 False 是邏輯型的資料，正確或不正確，成立或不成立，相等或不相等，以此類推。\n",
    "\n",
    "True と False はロジックタイプのデータ。例えば：正解またはエラー？<ruby>有効<rt>ゆうこう</rt></ruby>または<ruby>無効<rt>むこう</rt></ruby>？等しいか等しくないか？"
   ]
  },
  {
   "cell_type": "code",
   "execution_count": null,
   "metadata": {},
   "outputs": [],
   "source": [
    "print(2 > 1)  # True\n",
    "print(2 < 1)  # False"
   ]
  },
  {
   "cell_type": "markdown",
   "metadata": {},
   "source": [
    "True 和 False 之間互相組合，可以產生許多變化。組合則是透過 and, or, not 等來達到。\n",
    "\n",
    "True と False の<ruby>互<rt>たが</rt></ruby>いに<ruby>結合<rt>けつごう</rt></ruby>して、多い変化が出せます。組み合わせは and, or, not を通じて達成されます。\n",
    "\n",
    "---\n",
    "and: 都是 True 才會是 True。\n",
    "\n",
    "and: 全部 True なら、結果を True になります。"
   ]
  },
  {
   "cell_type": "code",
   "execution_count": null,
   "metadata": {},
   "outputs": [],
   "source": [
    "print(True and True)    # True\n",
    "print(True and False)   # False\n",
    "print(False and False)  # False"
   ]
  },
  {
   "cell_type": "markdown",
   "metadata": {},
   "source": [
    "or: 其中一個 True 就會是 True。\n",
    "\n",
    "or: ある一つ True は結果を True になります。"
   ]
  },
  {
   "cell_type": "code",
   "execution_count": null,
   "metadata": {},
   "outputs": [],
   "source": [
    "print(True or True)    # True\n",
    "print(True or False)   # True\n",
    "print(False or False)  # False"
   ]
  },
  {
   "cell_type": "markdown",
   "metadata": {},
   "source": [
    "not: True → False, False → True。\n",
    "\n",
    "not: True を False になります、False を True になります。"
   ]
  },
  {
   "cell_type": "code",
   "execution_count": null,
   "metadata": {},
   "outputs": [],
   "source": [
    "print(not True)    # False\n",
    "print(not False)   # True"
   ]
  }
 ],
 "metadata": {
  "kernelspec": {
   "display_name": "Python 3",
   "language": "python",
   "name": "python3"
  },
  "language_info": {
   "codemirror_mode": {
    "name": "ipython",
    "version": 3
   },
   "file_extension": ".py",
   "mimetype": "text/x-python",
   "name": "python",
   "nbconvert_exporter": "python",
   "pygments_lexer": "ipython3",
   "version": "3.7.4"
  }
 },
 "nbformat": 4,
 "nbformat_minor": 4
}
